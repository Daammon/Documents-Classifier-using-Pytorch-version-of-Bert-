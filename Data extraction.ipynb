{
 "cells": [
  {
   "cell_type": "code",
   "execution_count": 16,
   "metadata": {},
   "outputs": [],
   "source": [
    "import requests \n",
    "import re \n",
    "from pathlib import Path"
   ]
  },
  {
   "cell_type": "code",
   "execution_count": 24,
   "metadata": {
    "scrolled": true
   },
   "outputs": [],
   "source": [
    "#Initialize variables that we will use in the data extraction part\n",
    "genres_dict={'Computers': '48', 'Business': '69', 'Health': '58', 'Romance' :'38', 'Horror': '18'}\n",
    "username = 'yourname@gmail.com'\n",
    "password ='yourpassword'\n",
    "website = 'https://manybooks.net'\n",
    "login_url = 'https://manybooks.net/mnybks-login-form'\n",
    "titles_url = 'https://manybooks.net/books/get/' \n",
    "genres = ['Computers', 'Business', 'Health', 'Romance', 'Horror']\n",
    "path = Path('Clasif_data')"
   ]
  },
  {
   "cell_type": "code",
   "execution_count": 14,
   "metadata": {},
   "outputs": [],
   "source": [
    "#Create folders to divide book files\n",
    "for folder in genres:\n",
    "    dest = path/folder\n",
    "    dest.mkdir(parents=True, exist_ok=True)"
   ]
  },
  {
   "cell_type": "code",
   "execution_count": 29,
   "metadata": {
    "scrolled": true
   },
   "outputs": [],
   "source": [
    "#I initiate sessions to get web pages  \n",
    "session = requests.Session()\n",
    "#I searched through the website for the parameters to send in order to be accepted when login.\n",
    "payload = {'__cfduid':cfduid,\n",
    "           'email':username,\n",
    "           'pass':password,\n",
    "           'form_build_id':'form-aIrK-Lvd2CvE8upWr1Yjw_BV7duIw4PSWnfa8HQ4syo',\n",
    "           'form_id' : 'mb_user_login_form',\n",
    "           'ga_event' : 'lrf:kZXSGyeM4Zi2Q5n'}\n",
    "\n",
    "#I donwload 3 pages of books from each of the 5 chosen genres\n",
    "for genre in genres:\n",
    "    for i in range(3):#I could loop here through all the pages if my goal was to donwload the complete site\n",
    "        if i == 0: #The first page when you search for a genre is slightly different\n",
    "            search = session.get('https://manybooks.net/search-book?field_genre[' + genres_dict[genre] +']=' + genres_dict[genre], headers={ \n",
    "                                                'Connection':'keep-alive', \n",
    "                                                'Referer': login_url }) #I get the search page to scrape\n",
    "            soup_string = search.text \n",
    "            # I use regex to create a list with all the book IDs. I skip the first 4 because they are recommendations.\n",
    "            list_of_books = re.findall(r'(?<=node-id=\")\\d+', soup_string, flags=0)[4:]\n",
    "            \n",
    "        else: #The rest of pages of the search have an index at the end of the address so I use the 'i' of the for loop \n",
    "            search = session.get('https://manybooks.net/search-book?language=All&field_genre[' + genres_dict[genre] +']='+genres_dict[genre]+'&sticky=All&created_op=%3C&created[value]=0&created[min]=&created[max]=&author_uid_op=%3E%3D&author_uid[value]=0&author_uid[min]=&author_uid[max]=&sort_by=field_downloads&search=&page='+ str(i), headers={ \n",
    "                                                'Connection':'keep-alive', \n",
    "                                                'Referer': login_url })\n",
    "            soup_string = search.text \n",
    "            list_of_books = list_of_books + re.findall(r'(?<=node-id=\")\\d+', soup_string, flags=0)[4:]\n",
    "    session.get(login_url)#I get the login website in order to receive the cookie\n",
    "    cfduid = session.cookies['__cfduid'] #I save the cookie in a variable to resend it\n",
    "    session.post(login_url, data=payload, headers={ 'Connection':'keep-alive', #Log in\n",
    "                                                    'Referer': login_url })\n",
    "    #I loop though the list of books and donwload them. The '/8' is added to choose the format txt                                             \n",
    "    for book_id in list_of_books:\n",
    "        book_url = titles_url + book_id + '/8'#Creating the book url\n",
    "        r = session.get(book_url,allow_redirects=True, headers={ 'Connection':'keep-alive', #getting the book \n",
    "                                                'Referer': 'https://manybooks.net/' })\n",
    "        with open(str(path)+'/' + genre +'/' + book_id + '.txt', 'wb') as outfile:#Writing the book in a file\n",
    "             outfile.write(r.content)"
   ]
  },
  {
   "cell_type": "code",
   "execution_count": null,
   "metadata": {},
   "outputs": [],
   "source": []
  }
 ],
 "metadata": {
  "kernelspec": {
   "display_name": "Python 3",
   "language": "python",
   "name": "python3"
  },
  "language_info": {
   "codemirror_mode": {
    "name": "ipython",
    "version": 3
   },
   "file_extension": ".py",
   "mimetype": "text/x-python",
   "name": "python",
   "nbconvert_exporter": "python",
   "pygments_lexer": "ipython3",
   "version": "3.6.8"
  }
 },
 "nbformat": 4,
 "nbformat_minor": 2
}
