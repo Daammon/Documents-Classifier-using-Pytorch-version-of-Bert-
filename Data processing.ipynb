{
 "cells": [
  {
   "cell_type": "markdown",
   "metadata": {},
   "source": [
    "# Data Processing"
   ]
  },
  {
   "cell_type": "raw",
   "metadata": {},
   "source": [
    "The instructions of the assigment were to make a classifier of documents between 1-50 pages. In this file, I take the books I donwloaded and cut them so they have the number of pages as requested. I do it proportionally, so if we would have 50 books of each class, there would be 1 book with 1 page, 1 book with 2 pages and so on. "
   ]
  },
  {
   "cell_type": "code",
   "execution_count": 1,
   "metadata": {},
   "outputs": [],
   "source": [
    "import re \n",
    "from pathlib import Path\n",
    "import os\n",
    "import pandas as pd"
   ]
  },
  {
   "cell_type": "code",
   "execution_count": 2,
   "metadata": {},
   "outputs": [],
   "source": [
    "genres = ['Computers', 'Business', 'Health', 'Romance', 'Horror']\n",
    "path = 'Clasif_data'"
   ]
  },
  {
   "cell_type": "code",
   "execution_count": 4,
   "metadata": {},
   "outputs": [],
   "source": [
    "text_finetuning = ''\n",
    "for i, genre in enumerate(genres):\n",
    "    for r, d, f in os.walk(path + '/' + genre): #I walk through the folders and take files one by one\n",
    "        num_of_books=len(f)\n",
    "        for j, file in enumerate(f):\n",
    "            with open(path + '/' + genre + '/' + file, 'r') as book:\n",
    "                 lines=book.readlines()\n",
    "            lenght_book = len(lines)\n",
    "            book_portion = round(len(lines)/num_of_books+2)#indicates the part of the book to take the page\n",
    "            paginas = ''\n",
    "            for k in range(j+1):#j indicates the number of pages I want on that book. \n",
    "                paginas = paginas + ''.join(lines[book_portion*(k+1):book_portion*(k+1)+60])\n",
    "            text_finetuning = paginas + text_finetuning #I include all the pages in this file.\n",
    "            with open(path + '/' + genre + '/' + file, 'w') as book:\n",
    "                book.write(paginas)\n",
    "            with open(path + '/text_finetuning_books.txt' , 'w') as book:\n",
    "                book.write(text_finetuning)\n"
   ]
  },
  {
   "cell_type": "code",
   "execution_count": null,
   "metadata": {},
   "outputs": [],
   "source": [
    "#I remove all the blank lines\n",
    "with open(path + '/text_finetuning_books.txt') as infile, open(path + '/text_finetuning_books2.txt', 'w') as outfile:\n",
    "    for line in infile:\n",
    "        if not line.strip(): continue  # skip the empty line\n",
    "        outfile.write(line)  # non-empty line. Write it to output"
   ]
  },
  {
   "cell_type": "raw",
   "metadata": {},
   "source": [
    "Below I created 3 dataframes: the train set, dev set and test set. The test set will be slightly different as I will use only a few paragraphs per document depending on the lenght ot it in order to increase the process speed. For documents that have more than 19 pages I will use 1/5 of the number of pages as the number of paragraphs to test. "
   ]
  },
  {
   "cell_type": "code",
   "execution_count": 127,
   "metadata": {},
   "outputs": [],
   "source": [
    "train_df = pd.DataFrame(columns=['Class', 'Text'])\n",
    "dev_df = pd.DataFrame(columns=['Class', 'Text'])\n",
    "test_df = pd.DataFrame(columns=['Class', 'Text','Book'])\n",
    "\n",
    "for i, genre in enumerate(genres):\n",
    "    for r, d, f in os.walk(path + '/' + genre):\n",
    "        num_of_books=len(f)\n",
    "        train_dev_limit = round(num_of_books*0.6) #until this limit is the train set\n",
    "        dev_test_limit = round(num_of_books*0.8)#from the previous limit until this one is the dev set.\n",
    "        for j, file in enumerate(f):\n",
    "            with open(path + '/' + genre + '/' + file, 'r') as book:\n",
    "                 lines = book.readlines()\n",
    "            lenght_book = len(lines)\n",
    "            # I calculated that 30 lines are half page. I divided by 32 to leave some margin to the loop to be able\n",
    "            # skip the first and last page\n",
    "            num_half_pages = round(lenght_book/32)\n",
    "            \n",
    "            if j < train_dev_limit:#I check if the book belongs to the train set\n",
    "                for k in range(num_half_pages):\n",
    "                    train_df.loc[len(train_df)] = [i, ''.join(lines[(k+2)*30:(k+3)*30])]\n",
    "                  \n",
    "            elif j < dev_test_limit:#I check if the book belongs to the dev set\n",
    "                for k in range(num_half_pages):\n",
    "                    dev_df.loc[len(dev_df)] = [i, ''.join(lines[(k+2)*30:(k+3)*30])]\n",
    "                   \n",
    "            else: #the book belongs to the test set. Depending on the lenght, I will test a number of paragraphs.\n",
    "                if len(lines) > 19*60:\n",
    "                    num_paragraph_tested = round(((len(lines)/60))/5)#1/5 of the pages will be tested\n",
    "                elif len(lines) > 14*60:\n",
    "                    num_paragraph_tested = 4 #around 4 pages will be tested\n",
    "                elif len(lines) > 8*60: \n",
    "                    num_paragraph_tested = 3 #around 3 pages will be tested\n",
    "                elif len(lines) > 2*60: \n",
    "                    num_paragraph_tested = 2 #around 2 pages will be tested\n",
    "                else:\n",
    "                    num_paragraph_tested = 1\n",
    "                book_portion = round(len(lines)/(num_paragraph_tested+1))#index that points the paragraph to pick\n",
    "                \n",
    "                #creates a dataframe with paragraphs of 30 lines equally picked from the whole book\n",
    "                for k in range(num_paragraph_tested): \n",
    "                    test_df.loc[len(test_df)] = [i, ''.join(lines[(k+1)*book_portion:((k+1)*book_portion) + 30]), j]"
   ]
  },
  {
   "cell_type": "code",
   "execution_count": 131,
   "metadata": {},
   "outputs": [
    {
     "name": "stdout",
     "output_type": "stream",
     "text": [
      "46597\n",
      "15221\n",
      "2183\n"
     ]
    }
   ],
   "source": [
    "print(len(train_df))\n",
    "print(len(dev_df))\n",
    "print(len(test_df))"
   ]
  },
  {
   "cell_type": "code",
   "execution_count": 132,
   "metadata": {},
   "outputs": [],
   "source": [
    "#We clean short lines\n",
    "train_df = train_df[train_df.Text.str.len() > 20]\n",
    "dev_df = dev_df[dev_df.Text.str.len() > 20]\n",
    "test_df = test_df[test_df.Text.str.len() > 20]"
   ]
  },
  {
   "cell_type": "code",
   "execution_count": 133,
   "metadata": {
    "scrolled": false
   },
   "outputs": [
    {
     "name": "stdout",
     "output_type": "stream",
     "text": [
      "46573\n",
      "15216\n",
      "2182\n"
     ]
    }
   ],
   "source": [
    "print(len(train_df))\n",
    "print(len(dev_df))\n",
    "print(len(test_df))"
   ]
  },
  {
   "cell_type": "code",
   "execution_count": 136,
   "metadata": {},
   "outputs": [
    {
     "data": {
      "text/html": [
       "<div>\n",
       "<style scoped>\n",
       "    .dataframe tbody tr th:only-of-type {\n",
       "        vertical-align: middle;\n",
       "    }\n",
       "\n",
       "    .dataframe tbody tr th {\n",
       "        vertical-align: top;\n",
       "    }\n",
       "\n",
       "    .dataframe thead th {\n",
       "        text-align: right;\n",
       "    }\n",
       "</style>\n",
       "<table border=\"1\" class=\"dataframe\">\n",
       "  <thead>\n",
       "    <tr style=\"text-align: right;\">\n",
       "      <th></th>\n",
       "      <th>Class</th>\n",
       "      <th>Text</th>\n",
       "    </tr>\n",
       "  </thead>\n",
       "  <tbody>\n",
       "    <tr>\n",
       "      <th>0</th>\n",
       "      <td>0</td>\n",
       "      <td>cooperation. Although it may have disappointed...</td>\n",
       "    </tr>\n",
       "    <tr>\n",
       "      <th>1</th>\n",
       "      <td>0</td>\n",
       "      <td>people are allowed to participate actively in ...</td>\n",
       "    </tr>\n",
       "    <tr>\n",
       "      <th>2</th>\n",
       "      <td>0</td>\n",
       "      <td>strategies sell more products, earn more votes...</td>\n",
       "    </tr>\n",
       "    <tr>\n",
       "      <th>3</th>\n",
       "      <td>0</td>\n",
       "      <td>conflict than were available, particularly to ...</td>\n",
       "    </tr>\n",
       "    <tr>\n",
       "      <th>4</th>\n",
       "      <td>0</td>\n",
       "      <td>While it may not provide us with a template fo...</td>\n",
       "    </tr>\n",
       "  </tbody>\n",
       "</table>\n",
       "</div>"
      ],
      "text/plain": [
       "  Class                                               Text\n",
       "0     0  cooperation. Although it may have disappointed...\n",
       "1     0  people are allowed to participate actively in ...\n",
       "2     0  strategies sell more products, earn more votes...\n",
       "3     0  conflict than were available, particularly to ...\n",
       "4     0  While it may not provide us with a template fo..."
      ]
     },
     "execution_count": 136,
     "metadata": {},
     "output_type": "execute_result"
    }
   ],
   "source": [
    "train_df.head()"
   ]
  },
  {
   "cell_type": "code",
   "execution_count": 137,
   "metadata": {},
   "outputs": [
    {
     "data": {
      "text/html": [
       "<div>\n",
       "<style scoped>\n",
       "    .dataframe tbody tr th:only-of-type {\n",
       "        vertical-align: middle;\n",
       "    }\n",
       "\n",
       "    .dataframe tbody tr th {\n",
       "        vertical-align: top;\n",
       "    }\n",
       "\n",
       "    .dataframe thead th {\n",
       "        text-align: right;\n",
       "    }\n",
       "</style>\n",
       "<table border=\"1\" class=\"dataframe\">\n",
       "  <thead>\n",
       "    <tr style=\"text-align: right;\">\n",
       "      <th></th>\n",
       "      <th>Class</th>\n",
       "      <th>Text</th>\n",
       "      <th>Book</th>\n",
       "    </tr>\n",
       "  </thead>\n",
       "  <tbody>\n",
       "    <tr>\n",
       "      <th>0</th>\n",
       "      <td>0</td>\n",
       "      <td>Novembre 2000\\n\\n= Mise en ligne de la version...</td>\n",
       "      <td>56</td>\n",
       "    </tr>\n",
       "    <tr>\n",
       "      <th>1</th>\n",
       "      <td>0</td>\n",
       "      <td>= Mail-romans\\n\\nDernier-né de la cyber-littér...</td>\n",
       "      <td>56</td>\n",
       "    </tr>\n",
       "    <tr>\n",
       "      <th>2</th>\n",
       "      <td>0</td>\n",
       "      <td>\\n\\n[5.1. Numérisation: mode texte et mode ima...</td>\n",
       "      <td>56</td>\n",
       "    </tr>\n",
       "    <tr>\n",
       "      <th>3</th>\n",
       "      <td>0</td>\n",
       "      <td>Ce logiciel étant téléchargeable gratuitement,...</td>\n",
       "      <td>56</td>\n",
       "    </tr>\n",
       "    <tr>\n",
       "      <th>4</th>\n",
       "      <td>0</td>\n",
       "      <td>\\n\\nConsidéré par beaucoup comme transitoire, ...</td>\n",
       "      <td>56</td>\n",
       "    </tr>\n",
       "  </tbody>\n",
       "</table>\n",
       "</div>"
      ],
      "text/plain": [
       "  Class                                               Text Book\n",
       "0     0  Novembre 2000\\n\\n= Mise en ligne de la version...   56\n",
       "1     0  = Mail-romans\\n\\nDernier-né de la cyber-littér...   56\n",
       "2     0  \\n\\n[5.1. Numérisation: mode texte et mode ima...   56\n",
       "3     0  Ce logiciel étant téléchargeable gratuitement,...   56\n",
       "4     0  \\n\\nConsidéré par beaucoup comme transitoire, ...   56"
      ]
     },
     "execution_count": 137,
     "metadata": {},
     "output_type": "execute_result"
    }
   ],
   "source": [
    "test_df.head()"
   ]
  },
  {
   "cell_type": "code",
   "execution_count": null,
   "metadata": {},
   "outputs": [],
   "source": []
  }
 ],
 "metadata": {
  "kernelspec": {
   "display_name": "Python 3",
   "language": "python",
   "name": "python3"
  },
  "language_info": {
   "codemirror_mode": {
    "name": "ipython",
    "version": 3
   },
   "file_extension": ".py",
   "mimetype": "text/x-python",
   "name": "python",
   "nbconvert_exporter": "python",
   "pygments_lexer": "ipython3",
   "version": "3.6.8"
  }
 },
 "nbformat": 4,
 "nbformat_minor": 2
}
